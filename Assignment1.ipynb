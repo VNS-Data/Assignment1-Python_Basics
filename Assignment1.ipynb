{
 "cells": [
  {
   "cell_type": "raw",
   "id": "36c175c8-f23a-44f0-93b6-e7cc2fd81933",
   "metadata": {},
   "source": [
    "1.\tExplain the key features of Python that make it a popular choice for programming\n",
    "Easy to Code: Python being easy to use, is widely used due to its easy syntax\n",
    "Large number of libraries: More than 13700 libraries of python are there which are used in data analysis, machine learning, data visualization and other activities\n",
    "Huge Community: Python has large number of users which makes it easy to find support if we are stuck\n",
    "Frontend development: We can incorporate Python in HTML which can help to create interactive designs.\n",
    "Backend Development: Python is extremely used in backend development. Many frameworks also are present which are used for development.\n",
    "Data Analysis: Python is used the most in data analysis due to its fast speed and libraries present.\n",
    "Image Processing: Python is extensively used in Machine Learning as well as Image Processing due to its very high speed and useful libraries like pandas, numpy.\n"
   ]
  },
  {
   "cell_type": "raw",
   "id": "a25aad59-0a80-4ba8-b386-37091c552f57",
   "metadata": {},
   "source": [
    "2.\tDescribe the role of predefined keywords in Python and provide examples of how they are used in a program\n",
    "Keywords are predefined words that cannot be defined again. Keywords can be identifiers, function name, loop names.\n",
    "Keywords are case-sensitive.\n",
    "Examples include import, for, return, True, False\n"
   ]
  },
  {
   "cell_type": "code",
   "execution_count": 1,
   "id": "429c2c05-0b75-4943-9db0-64c7708da2ec",
   "metadata": {},
   "outputs": [],
   "source": [
    "import numpy #example1 for import keyword"
   ]
  },
  {
   "cell_type": "code",
   "execution_count": 4,
   "id": "eb0b0414-5a90-4f7b-a0c3-5fbf26c9c460",
   "metadata": {},
   "outputs": [
    {
     "name": "stdout",
     "output_type": "stream",
     "text": [
      "Vaishnavi\n"
     ]
    }
   ],
   "source": [
    "a = 'Vaishnavi' #example2 for print keyword\n",
    "print (a)\n"
   ]
  },
  {
   "cell_type": "code",
   "execution_count": 5,
   "id": "3cbeb6c7-4a5d-4435-8693-f90a4f0b9427",
   "metadata": {},
   "outputs": [
    {
     "name": "stdout",
     "output_type": "stream",
     "text": [
      "p\n",
      "w\n",
      "s\n",
      "k\n",
      "i\n",
      "l\n",
      "l\n",
      "s\n"
     ]
    }
   ],
   "source": [
    "a = 'pwskills' #example3 gives for, in, print keyword\n",
    "for i in a:\n",
    "           print(i)\n"
   ]
  },
  {
   "cell_type": "code",
   "execution_count": 7,
   "id": "ef2ece5b-520a-4d26-8208-2d0e703e69ea",
   "metadata": {},
   "outputs": [
    {
     "name": "stdout",
     "output_type": "stream",
     "text": [
      "0 1 2 3 4 5 6 7 8 9 "
     ]
    }
   ],
   "source": [
    "for i in range(10):  #example3 gives range, print keyword\n",
    " print(i, end=' ')\n"
   ]
  },
  {
   "cell_type": "raw",
   "id": "d887c813-44fd-4db9-a4da-9b17f30d403e",
   "metadata": {},
   "source": [
    "3.\tCompare and contrast mutable and immutable objects in Python with example.\n",
    "•\tIf the object is mutable, its values can be changed after creation of the object.\n",
    "•\tIf the object is immutable, its values can’t be changed or altered once the object is created.\n",
    "•\tExamples of mutable object are :- List, Dictionaries.\n",
    "•\tExamples of immutable object are :- Set. \n"
   ]
  },
  {
   "cell_type": "code",
   "execution_count": 8,
   "id": "5ef66d1b-be19-4004-932c-d930cc70524d",
   "metadata": {},
   "outputs": [
    {
     "data": {
      "text/plain": [
       "['Paris', 'London', 'Sweden', 'Greece', 'Japan']"
      ]
     },
     "execution_count": 8,
     "metadata": {},
     "output_type": "execute_result"
    }
   ],
   "source": [
    "v = [\"Paris\", \"London\",\"Sweden\", \"Greece\", \"Japan\"] # example of list(mutable object)\n",
    "v"
   ]
  },
  {
   "cell_type": "code",
   "execution_count": 9,
   "id": "1d57bce7-d0d3-497a-b57f-afccc8075548",
   "metadata": {},
   "outputs": [
    {
     "data": {
      "text/plain": [
       "'Sweden'"
      ]
     },
     "execution_count": 9,
     "metadata": {},
     "output_type": "execute_result"
    }
   ],
   "source": [
    "v[2]"
   ]
  },
  {
   "cell_type": "code",
   "execution_count": 11,
   "id": "81a03ddc-62b5-41a6-b831-7f087903853b",
   "metadata": {},
   "outputs": [
    {
     "data": {
      "text/plain": [
       "['Paris', 'London', 'Switzerland', 'Greece', 'Japan']"
      ]
     },
     "execution_count": 11,
     "metadata": {},
     "output_type": "execute_result"
    }
   ],
   "source": [
    "v[2]='Switzerland'\n",
    "v"
   ]
  },
  {
   "cell_type": "code",
   "execution_count": 12,
   "id": "061e6728-1ae3-4b33-bc7a-75fdb3cd673f",
   "metadata": {},
   "outputs": [
    {
     "data": {
      "text/plain": [
       "{'Greece', 'Japan', 'London', 'Paris', 'Sweden'}"
      ]
     },
     "execution_count": 12,
     "metadata": {},
     "output_type": "execute_result"
    }
   ],
   "source": [
    "s = {\"Paris\", \"London\",\"Sweden\", \"Greece\", \"Japan\"} # example of list(immutable object)\n",
    "s"
   ]
  },
  {
   "cell_type": "code",
   "execution_count": 13,
   "id": "5d7db59a-5985-4db3-b10b-4feabbc81b2f",
   "metadata": {},
   "outputs": [
    {
     "data": {
      "text/plain": [
       "set"
      ]
     },
     "execution_count": 13,
     "metadata": {},
     "output_type": "execute_result"
    }
   ],
   "source": [
    "type(s)"
   ]
  },
  {
   "cell_type": "code",
   "execution_count": 17,
   "id": "bae9f7f2-0ebe-4624-bf14-fd6f138cfbab",
   "metadata": {},
   "outputs": [
    {
     "ename": "SyntaxError",
     "evalue": "cannot assign to function call here. Maybe you meant '==' instead of '='? (691810120.py, line 1)",
     "output_type": "error",
     "traceback": [
      "\u001b[0;36m  Cell \u001b[0;32mIn[17], line 1\u001b[0;36m\u001b[0m\n\u001b[0;31m    set(1)='US'\u001b[0m\n\u001b[0m    ^\u001b[0m\n\u001b[0;31mSyntaxError\u001b[0m\u001b[0;31m:\u001b[0m cannot assign to function call here. Maybe you meant '==' instead of '='?\n"
     ]
    }
   ],
   "source": [
    "set(1)='US'"
   ]
  },
  {
   "cell_type": "raw",
   "id": "e02f1d62-dea5-40fe-8c76-a87f6b7120ae",
   "metadata": {},
   "source": [
    "4. Discuss the different types of operators in Python and provide examples of how they are used.\n",
    "i.\t Python Arithmetic Operator\n",
    "ii.\t Python Comparison Operators \n",
    "iii. Python Logical Operators \n",
    "iv.  Python Bitwise Operators \n",
    "v.   Python Membership Operators \n",
    "vi.  Python Identity Operators \n",
    "vii. Python Assignment Operators \n",
    "\n",
    "Python arithmetic operators are used to carry out mathematical operations like addition, subtraction, division and multiplication. The available operators are +,-,*,/, %,**,//\n",
    "\n"
   ]
  },
  {
   "cell_type": "code",
   "execution_count": 18,
   "id": "0c811b72-6b4a-41a2-be71-70839ad51d23",
   "metadata": {},
   "outputs": [
    {
     "data": {
      "text/plain": [
       "52"
      ]
     },
     "execution_count": 18,
     "metadata": {},
     "output_type": "execute_result"
    }
   ],
   "source": [
    "# Example for Python arithmetic operators\n",
    "a= 31 + 21\n",
    "a"
   ]
  },
  {
   "cell_type": "code",
   "execution_count": 19,
   "id": "c09d01ad-496f-4510-a431-34a6d22322d0",
   "metadata": {},
   "outputs": [
    {
     "data": {
      "text/plain": [
       "169"
      ]
     },
     "execution_count": 19,
     "metadata": {},
     "output_type": "execute_result"
    }
   ],
   "source": [
    "a= 13 ** 2\n",
    "a"
   ]
  },
  {
   "cell_type": "code",
   "execution_count": 20,
   "id": "81603dc2-4e00-47ce-aa68-8d2ef3ba7a84",
   "metadata": {},
   "outputs": [
    {
     "data": {
      "text/plain": [
       "16"
      ]
     },
     "execution_count": 20,
     "metadata": {},
     "output_type": "execute_result"
    }
   ],
   "source": [
    "a = 19 - 3\n",
    "a"
   ]
  },
  {
   "cell_type": "raw",
   "id": "ceebcee6-2f5b-4291-b5da-bf7c0484d6ea",
   "metadata": {},
   "source": [
    "Python Comparison Operators are used to compare two values and the result of comparison is a boolean value. The operators are ==, !=, <=, >=, >, <"
   ]
  },
  {
   "cell_type": "code",
   "execution_count": 27,
   "id": "137c8a0f-18a1-4d27-b1e5-41ec56cd64c3",
   "metadata": {},
   "outputs": [
    {
     "name": "stdout",
     "output_type": "stream",
     "text": [
      "False\n"
     ]
    }
   ],
   "source": [
    "a = 3\n",
    "b = 31\n",
    "print(a==b)"
   ]
  },
  {
   "cell_type": "code",
   "execution_count": 29,
   "id": "b6b85e50-839f-4be4-a8fa-bdf6610ed784",
   "metadata": {},
   "outputs": [
    {
     "name": "stdout",
     "output_type": "stream",
     "text": [
      "True\n"
     ]
    }
   ],
   "source": [
    "a = 3\n",
    "b = 31\n",
    "print(a<=b)"
   ]
  },
  {
   "cell_type": "code",
   "execution_count": 30,
   "id": "53423b8f-f33b-42f7-a2a5-0544df6f713c",
   "metadata": {},
   "outputs": [
    {
     "name": "stdout",
     "output_type": "stream",
     "text": [
      "True\n"
     ]
    }
   ],
   "source": [
    "a = 3\n",
    "b = 31\n",
    "print(a!=b)"
   ]
  },
  {
   "cell_type": "raw",
   "id": "7f45bbfa-1285-442c-a90c-16f145d4873f",
   "metadata": {},
   "source": [
    "Python logical operators are used to compose Boolean expressions and evaluate their truth values. The available operators are AND, OR, NOT"
   ]
  },
  {
   "cell_type": "code",
   "execution_count": 33,
   "id": "c494ff06-2b41-4ff2-ab58-3445e0ad009b",
   "metadata": {},
   "outputs": [
    {
     "name": "stdout",
     "output_type": "stream",
     "text": [
      "Got to have a ticket\n"
     ]
    }
   ],
   "source": [
    "age = 15\n",
    "\n",
    "if(age > 12 and age < 18):\n",
    "    print(\"Got to have a ticket\")"
   ]
  },
  {
   "cell_type": "code",
   "execution_count": 35,
   "id": "e9581daa-df5c-4634-a3aa-20f54cab6f36",
   "metadata": {},
   "outputs": [
    {
     "name": "stdout",
     "output_type": "stream",
     "text": [
      "You are in your teens\n"
     ]
    }
   ],
   "source": [
    "age = 15\n",
    "\n",
    "if(age > 12 and age < 18):\n",
    "    print(\"You are in your teens\")"
   ]
  },
  {
   "cell_type": "raw",
   "id": "979738c4-670e-4a7c-b9e0-92f78fdcb8fb",
   "metadata": {},
   "source": [
    "Python Bitwise Operators are used to execute operations on single single bits of the integers.\n",
    "The available one are AND (&), OR (|), NOT (), XOR (), left shift (), and right shift (>>)\n"
   ]
  },
  {
   "cell_type": "code",
   "execution_count": 40,
   "id": "21465531-69d1-49b9-9e83-46f6175fa578",
   "metadata": {},
   "outputs": [
    {
     "name": "stdout",
     "output_type": "stream",
     "text": [
      "2\n"
     ]
    }
   ],
   "source": [
    "print(3 & 2)"
   ]
  },
  {
   "cell_type": "code",
   "execution_count": 41,
   "id": "9c11a19a-f30d-4303-85db-79cc24e7eee2",
   "metadata": {},
   "outputs": [
    {
     "name": "stdout",
     "output_type": "stream",
     "text": [
      "3\n"
     ]
    }
   ],
   "source": [
    "print(3 | 2)"
   ]
  },
  {
   "cell_type": "code",
   "execution_count": 42,
   "id": "f7b56953-3b76-4bd6-a5d0-480c15111bcc",
   "metadata": {},
   "outputs": [
    {
     "name": "stdout",
     "output_type": "stream",
     "text": [
      "1\n"
     ]
    }
   ],
   "source": [
    "print(3 ^ 2)"
   ]
  },
  {
   "cell_type": "raw",
   "id": "fcdb58bf-40b1-40eb-be1e-3709ae745b82",
   "metadata": {},
   "source": [
    "Python Membership Operators are used to check if the given value is present in some sequence or collection. Yhe two operators are IN, NOT IN"
   ]
  },
  {
   "cell_type": "code",
   "execution_count": 43,
   "id": "ef963893-799c-4a75-b716-1d1dd887c516",
   "metadata": {},
   "outputs": [
    {
     "name": "stdout",
     "output_type": "stream",
     "text": [
      "p\n",
      "w\n",
      "s\n",
      "k\n",
      "i\n",
      "l\n",
      "l\n",
      "s\n"
     ]
    }
   ],
   "source": [
    "a = \"pwskills\"\n",
    "for i in a:\n",
    "    print(i)"
   ]
  },
  {
   "cell_type": "code",
   "execution_count": 44,
   "id": "49eb260b-196a-49cd-8645-7a70827ce569",
   "metadata": {},
   "outputs": [
    {
     "name": "stdout",
     "output_type": "stream",
     "text": [
      "0\n",
      "1\n",
      "2\n",
      "3\n",
      "4\n",
      "5\n",
      "6\n",
      "7\n",
      "8\n",
      "9\n"
     ]
    }
   ],
   "source": [
    "for i in range(10):\n",
    "    print (i)"
   ]
  },
  {
   "cell_type": "raw",
   "id": "ba936577-b66e-46ca-a2cf-34052f9505ad",
   "metadata": {},
   "source": [
    "Python Identity Operators are used to compare the values of memory addresses of the object rather than their values. The two operators are IS, IS NOT."
   ]
  },
  {
   "cell_type": "code",
   "execution_count": 47,
   "id": "af8a9993-5aa4-439f-b989-8c0d09328f17",
   "metadata": {},
   "outputs": [
    {
     "name": "stdout",
     "output_type": "stream",
     "text": [
      "True\n"
     ]
    }
   ],
   "source": [
    "a = 3\n",
    "b = a\n",
    "print (a is b)"
   ]
  },
  {
   "cell_type": "raw",
   "id": "9fda4282-727a-40ea-a66b-d1df50aa63fb",
   "metadata": {},
   "source": [
    "Python Assignment Operators are used to assign values to variables. The primary one is ="
   ]
  },
  {
   "cell_type": "code",
   "execution_count": 48,
   "id": "ed73223d-fc99-427a-8237-d45675dc76f7",
   "metadata": {},
   "outputs": [
    {
     "data": {
      "text/plain": [
       "3"
      ]
     },
     "execution_count": 48,
     "metadata": {},
     "output_type": "execute_result"
    }
   ],
   "source": [
    "a= 3\n",
    "a"
   ]
  },
  {
   "cell_type": "raw",
   "id": "f7f95dec-eac9-4387-bc22-394b0cf3bc67",
   "metadata": {},
   "source": [
    "5.\tExplain the concept of type casting in Python with examples \n",
    "Type Casting is the process of converting a data type into another data type.\n"
   ]
  },
  {
   "cell_type": "code",
   "execution_count": 1,
   "id": "14835377-923d-4413-8c79-ff603be4bf1d",
   "metadata": {},
   "outputs": [],
   "source": [
    "string1 ='1'\n"
   ]
  },
  {
   "cell_type": "code",
   "execution_count": 2,
   "id": "0acff2c1-d452-4b82-9268-c44c7392c891",
   "metadata": {},
   "outputs": [
    {
     "data": {
      "text/plain": [
       "str"
      ]
     },
     "execution_count": 2,
     "metadata": {},
     "output_type": "execute_result"
    }
   ],
   "source": [
    "type(string1)"
   ]
  },
  {
   "cell_type": "code",
   "execution_count": 5,
   "id": "aed2daad-0f45-48fa-bf3d-e9d53d90b529",
   "metadata": {},
   "outputs": [
    {
     "data": {
      "text/plain": [
       "int"
      ]
     },
     "execution_count": 5,
     "metadata": {},
     "output_type": "execute_result"
    }
   ],
   "source": [
    "type(int(string1))\n"
   ]
  },
  {
   "cell_type": "code",
   "execution_count": 8,
   "id": "9fd51f16-ddd5-4b55-847c-ac6b74ae5193",
   "metadata": {},
   "outputs": [
    {
     "data": {
      "text/plain": [
       "3108"
      ]
     },
     "execution_count": 8,
     "metadata": {},
     "output_type": "execute_result"
    }
   ],
   "source": [
    "string = \"3108\"\n",
    "new_str = int(string)\n",
    "new_str\n"
   ]
  },
  {
   "cell_type": "code",
   "execution_count": 7,
   "id": "a1ac3cb2-afae-483f-91ba-82d658d231c3",
   "metadata": {},
   "outputs": [
    {
     "data": {
      "text/plain": [
       "int"
      ]
     },
     "execution_count": 7,
     "metadata": {},
     "output_type": "execute_result"
    }
   ],
   "source": [
    "type(new_str)"
   ]
  },
  {
   "cell_type": "code",
   "execution_count": 10,
   "id": "a385996c-8f67-4f4e-8dfc-aa5ab58191d3",
   "metadata": {},
   "outputs": [
    {
     "data": {
      "text/plain": [
       "'1'"
      ]
     },
     "execution_count": 10,
     "metadata": {},
     "output_type": "execute_result"
    }
   ],
   "source": [
    "int1=1\n",
    "new_str= str(int1)\n",
    "new_str"
   ]
  },
  {
   "cell_type": "code",
   "execution_count": 11,
   "id": "7b433d98-c8b2-4060-98e2-571b39b86fa9",
   "metadata": {},
   "outputs": [
    {
     "data": {
      "text/plain": [
       "str"
      ]
     },
     "execution_count": 11,
     "metadata": {},
     "output_type": "execute_result"
    }
   ],
   "source": [
    "type(new_str)"
   ]
  },
  {
   "cell_type": "raw",
   "id": "281cb1d0-045c-483b-82c9-2b8fe90fbe97",
   "metadata": {},
   "source": [
    "6. How do conditional statements work in Python? Illustrate with examples ?\n",
    "Conditional Statements are used to decide the flow based on the condition. If the given condition is true then a certai block is executed and if condition is false then another block is executed.\n",
    "Conditional statements include if, if-else."
   ]
  },
  {
   "cell_type": "code",
   "execution_count": 14,
   "id": "498f7ef6-52bb-4f4b-816d-4aab6405a9a7",
   "metadata": {},
   "outputs": [
    {
     "name": "stdout",
     "output_type": "stream",
     "text": [
      "10\n"
     ]
    }
   ],
   "source": [
    "a=10\n",
    "if a < 20:\n",
    "    print (a)"
   ]
  },
  {
   "cell_type": "code",
   "execution_count": 16,
   "id": "4a93ca00-4f78-46bb-af51-21ece8654bd6",
   "metadata": {},
   "outputs": [
    {
     "name": "stdout",
     "output_type": "stream",
     "text": [
      "Present\n"
     ]
    }
   ],
   "source": [
    "sent = 'I am a Billionaire'\n",
    "search_word = 'Billionaire'\n",
    "if search_word in sent:\n",
    "    print('Present')\n",
    "else:\n",
    "    print('Not Present')"
   ]
  },
  {
   "cell_type": "raw",
   "id": "926f1b21-517b-4e63-b966-86359697f14d",
   "metadata": {},
   "source": [
    "7. Describe the different types of loops in Python and their use cases with examples.\n",
    "Loops are used to run specific block again and aagain until it finds break statement.\n",
    "The two type of loops are WHILE and FOR"
   ]
  },
  {
   "cell_type": "code",
   "execution_count": 17,
   "id": "92476621-e123-4329-a2da-3923d619e00e",
   "metadata": {},
   "outputs": [
    {
     "name": "stdout",
     "output_type": "stream",
     "text": [
      "1\n",
      "2\n",
      "3\n",
      "4\n",
      "5\n",
      "6\n",
      "7\n",
      "8\n",
      "9\n",
      "10\n",
      "11\n"
     ]
    }
   ],
   "source": [
    "n = 12\n",
    "i = 1\n",
    "while i < n:\n",
    "    print(i)\n",
    "    i = i+1"
   ]
  },
  {
   "cell_type": "code",
   "execution_count": 18,
   "id": "418744e2-9ccc-41a0-8879-d89f276c457c",
   "metadata": {},
   "outputs": [
    {
     "name": "stdout",
     "output_type": "stream",
     "text": [
      "p\n",
      "w\n",
      "s\n",
      "k\n",
      "i\n",
      "l\n",
      "l\n",
      "s\n"
     ]
    }
   ],
   "source": [
    "a = 'pwskills'\n",
    "for i in a:\n",
    "    print(i)"
   ]
  },
  {
   "cell_type": "code",
   "execution_count": 19,
   "id": "9e25d210-778b-419c-a793-586cf5bebf83",
   "metadata": {},
   "outputs": [
    {
     "name": "stdout",
     "output_type": "stream",
     "text": [
      "5\n",
      "4\n",
      "3\n",
      "2\n",
      "1\n"
     ]
    }
   ],
   "source": [
    "count = 5\n",
    "while count >0:\n",
    "    print(count)\n",
    "    count = count -1"
   ]
  },
  {
   "cell_type": "code",
   "execution_count": null,
   "id": "e7873456-22c4-45ab-aa06-07d3249a7ff3",
   "metadata": {},
   "outputs": [],
   "source": []
  }
 ],
 "metadata": {
  "kernelspec": {
   "display_name": "Python 3 (ipykernel)",
   "language": "python",
   "name": "python3"
  },
  "language_info": {
   "codemirror_mode": {
    "name": "ipython",
    "version": 3
   },
   "file_extension": ".py",
   "mimetype": "text/x-python",
   "name": "python",
   "nbconvert_exporter": "python",
   "pygments_lexer": "ipython3",
   "version": "3.10.8"
  }
 },
 "nbformat": 4,
 "nbformat_minor": 5
}
